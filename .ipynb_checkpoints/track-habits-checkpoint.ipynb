{
 "cells": [
  {
   "cell_type": "markdown",
   "id": "10afda55",
   "metadata": {},
   "source": [
    "# Spotify Top Tracks Notebook\n",
    "### *This notebook will document the process of calling the Spotify API and using the retrieved data to gain insight on listening habits.*"
   ]
  },
  {
   "cell_type": "code",
   "execution_count": null,
   "id": "c129b65a",
   "metadata": {
    "scrolled": true
   },
   "outputs": [],
   "source": [
    "# Import necessary dependencies\n",
    "import requests\n",
    "import os\n",
    "from dotenv import load_dotenv\n",
    "import pandas as pd\n",
    "import numpy as np\n",
    "import matplotlib.pyplot as plt\n",
    "import seaborn as sns\n",
    "from pprint import pprint\n",
    "from tokens import get_access_token"
   ]
  },
  {
   "cell_type": "markdown",
   "id": "486f1bf4",
   "metadata": {},
   "source": [
    "## Retrieve Top Tracks"
   ]
  },
  {
   "cell_type": "code",
   "execution_count": null,
   "id": "112f4e25",
   "metadata": {},
   "outputs": [],
   "source": [
    "# Access token from tokens.py\n",
    "access_token = get_access_token()\n",
    "\n",
    "headers = {\n",
    "    'Authorization': f'Bearer {access_token}'\n",
    "}\n",
    "\n",
    "# Base url for all Spotify API calls\n",
    "BASE_URL = 'https://api.spotify.com/v1/'"
   ]
  },
  {
   "cell_type": "code",
   "execution_count": null,
   "id": "02beb269",
   "metadata": {},
   "outputs": [],
   "source": [
    "r = requests.get(f'{BASE_URL}me/top/tracks',\n",
    "                 headers=headers,\n",
    "                 params={\n",
    "                     'limit': 100,\n",
    "                     'time_range': 'short_term',\n",
    "                        })\n",
    "r = r.json()\n"
   ]
  },
  {
   "cell_type": "code",
   "execution_count": null,
   "id": "e114ce97",
   "metadata": {
    "scrolled": true
   },
   "outputs": [],
   "source": [
    "tracks = {'id':[], 'track_title':[], 'artist':[], 'album':[], 'r_date':[]}\n",
    "tracks_id = []\n",
    "pos = 1\n",
    "for item in r['items']:\n",
    "    track_title = item['name']\n",
    "    track_id = item['id']\n",
    "    tracks_id.append(track_id)\n",
    "    artists = []\n",
    "    for i in range(0, len(item['artists'])):\n",
    "        artists.append(item['artists'][i]['name'])\n",
    "    artist = \"/\".join(artists)\n",
    "    album = item['album']['name']\n",
    "    r_date = item['album']['release_date']\n",
    "    \"\"\"print(f'{pos})\\n\\tTrack: \"{track_title}\", \\n\\tID: \"{track_id}\"\\n\\tArtist(s): {artist}\\n\\tAlbum: \"{album}\"\\\n",
    "        \\n\\tRelease Date: {r_date}\\n')\n",
    "    print('--------------------------------------------------------------------------------------\\n')\"\"\"\n",
    "    tracks['id'].append(track_id)\n",
    "    tracks['track_title'].append(track_title)\n",
    "    tracks['artist'].append(artist)\n",
    "    tracks['album'].append(album)\n",
    "    tracks['r_date'].append(r_date)\n",
    "    pos+=1\n"
   ]
  },
  {
   "cell_type": "code",
   "execution_count": null,
   "id": "0fd0b4d5",
   "metadata": {
    "scrolled": true
   },
   "outputs": [],
   "source": [
    "df_tracks = pd.DataFrame(tracks)\n",
    "df_tracks"
   ]
  },
  {
   "cell_type": "markdown",
   "id": "26167ba2",
   "metadata": {},
   "source": [
    "## Track Audio Features"
   ]
  },
  {
   "cell_type": "code",
   "execution_count": null,
   "id": "13885557",
   "metadata": {},
   "outputs": [],
   "source": [
    "ids = ','.join(tracks_id)"
   ]
  },
  {
   "cell_type": "code",
   "execution_count": null,
   "id": "f473f1d4",
   "metadata": {
    "scrolled": true
   },
   "outputs": [],
   "source": [
    "r2 = requests.get(f\"{BASE_URL}audio-features\",\n",
    "                  headers=headers,\n",
    "                 params={\n",
    "                     'ids':ids,\n",
    "                        })\n",
    "r2 = r2.json()\n",
    "\n",
    "df_feats = pd.DataFrame(r2['audio_features'])\n",
    "df_feats.head(5)"
   ]
  },
  {
   "cell_type": "code",
   "execution_count": null,
   "id": "a20d2fb8",
   "metadata": {
    "scrolled": true
   },
   "outputs": [],
   "source": [
    "df = pd.concat([df_tracks, df_feats], axis=1)\n",
    "df.drop(['id', 'type', 'uri', 'track_href', 'analysis_url'], axis=1, inplace=True)\n",
    "df.head()"
   ]
  },
  {
   "cell_type": "code",
   "execution_count": null,
   "id": "3b478d45",
   "metadata": {
    "scrolled": true
   },
   "outputs": [],
   "source": [
    "from datetime import datetime\n",
    "\n",
    "df.r_date = df.r_date.apply(lambda x: x[:7])\n",
    "df.head()"
   ]
  },
  {
   "cell_type": "markdown",
   "id": "66e5bc3f",
   "metadata": {},
   "source": [
    "## Plots/Machine Learning"
   ]
  },
  {
   "cell_type": "code",
   "execution_count": null,
   "id": "dad121a5",
   "metadata": {
    "scrolled": true
   },
   "outputs": [],
   "source": [
    "from sklearn.preprocessing import StandardScaler"
   ]
  },
  {
   "cell_type": "code",
   "execution_count": null,
   "id": "29816d18",
   "metadata": {
    "scrolled": true
   },
   "outputs": [],
   "source": [
    "df_1 = df[['track_title', 'energy', 'tempo']].sort_values('energy', axis=0)\n",
    "df_1.head()"
   ]
  },
  {
   "cell_type": "code",
   "execution_count": null,
   "id": "05d4745f",
   "metadata": {
    "scrolled": true
   },
   "outputs": [],
   "source": [
    "sns.lineplot(data = df_1,\n",
    "               x = 'energy',\n",
    "               y = 'tempo')"
   ]
  },
  {
   "cell_type": "code",
   "execution_count": null,
   "id": "9d5aa0ac",
   "metadata": {
    "scrolled": true
   },
   "outputs": [],
   "source": [
    "keymap = {0:'C', 1:'C#', 2:'D', 3:'D#/Eb', 4:'E', 5:'F', 6:'F#/Gb', \n",
    "          7:'G', 8:'G#/Ab', 9:'A', 10:'A#/Bb', 11:'B', 12:'C'}\n",
    "modemap = {0:'minor', 1:'Major'}\n",
    "df['key-mode'] = df['key'].apply(lambda x: keymap[x]) + '-' + df['mode'].apply(lambda x: modemap[x])\n",
    "keymode = ['key', 'mode', 'key-mode']\n",
    "df[keymode].head()"
   ]
  },
  {
   "cell_type": "code",
   "execution_count": null,
   "id": "36568795",
   "metadata": {},
   "outputs": [],
   "source": [
    "df_2 = df.groupby(by=['artist'])\n",
    "df_2"
   ]
  },
  {
   "cell_type": "code",
   "execution_count": null,
   "id": "46df7c31",
   "metadata": {},
   "outputs": [],
   "source": []
  }
 ],
 "metadata": {
  "kernelspec": {
   "display_name": "Python 3 (ipykernel)",
   "language": "python",
   "name": "python3"
  },
  "language_info": {
   "codemirror_mode": {
    "name": "ipython",
    "version": 3
   },
   "file_extension": ".py",
   "mimetype": "text/x-python",
   "name": "python",
   "nbconvert_exporter": "python",
   "pygments_lexer": "ipython3",
   "version": "3.10.5"
  }
 },
 "nbformat": 4,
 "nbformat_minor": 5
}
