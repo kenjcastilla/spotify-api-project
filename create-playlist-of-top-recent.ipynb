{
 "cells": [
  {
   "cell_type": "markdown",
   "id": "5cf17843",
   "metadata": {},
   "source": [
    "# Create Playlist of Top Recents (short-term)"
   ]
  },
  {
   "cell_type": "code",
   "execution_count": 1,
   "id": "ab857917",
   "metadata": {},
   "outputs": [],
   "source": [
    "# Import necessary dependencies\n",
    "import requests\n",
    "import os\n",
    "import pandas as pd\n",
    "import numpy as np\n",
    "from pprint import pprint"
   ]
  },
  {
   "cell_type": "code",
   "execution_count": null,
   "id": "59ef1254",
   "metadata": {},
   "outputs": [],
   "source": [
    "# Access token from https://developer.spotify.com/console/get-current-user-top-artists-and-tracks\n",
    "access_token = ''\n",
    "\n",
    "headers = {\n",
    "    'Authorization': f'Bearer {access_token}'\n",
    "}\n",
    "\n",
    "# Base url for all Spotify API calls\n",
    "BASE_URL = 'https://api.spotify.com/v1/'"
   ]
  },
  {
   "cell_type": "code",
   "execution_count": null,
   "id": "ae156a51",
   "metadata": {},
   "outputs": [],
   "source": [
    "r = requests.get(f'{BASE_URL}me/top/tracks',\n",
    "                 headers=headers,\n",
    "                 params={\n",
    "                     'limit': 100,\n",
    "                     'time_range': 'short_term',\n",
    "                        })\n",
    "r = r.json()\n",
    "\n",
    "pprint(r)"
   ]
  },
  {
   "cell_type": "code",
   "execution_count": null,
   "id": "7a17ba1b",
   "metadata": {},
   "outputs": [],
   "source": [
    "tracks = {'id':[], 'track_title':[], 'artist':[], 'album':[], 'r_date':[]}\n",
    "tracks_id = []\n",
    "pos = 1\n",
    "for item in r['items']:\n",
    "    track_title = item['name']\n",
    "    track_id = item['id']\n",
    "    tracks_id.append(track_id)\n",
    "    artists = []\n",
    "    for i in range(0, len(item['artists'])):\n",
    "        artists.append(item['artists'][i]['name'])\n",
    "    artist = \"/\".join(artists)\n",
    "    album = item['album']['name']\n",
    "    r_date = item['album']['release_date']\n",
    "    print(f'{pos})\\n\\tTrack: \"{track_title}\", \\n\\tID: \"{track_id}\"\\n\\tArtist(s): {artist}\\n\\tAlbum: \"{album}\"\\\n",
    "        \\n\\tRelease Date: {r_date}\\n')\n",
    "    print('--------------------------------------------------------------------------------------\\n')\n",
    "    tracks['id'].append(track_id)\n",
    "    tracks['track_title'].append(track_title)\n",
    "    tracks['artist'].append(artist)\n",
    "    tracks['album'].append(album)\n",
    "    tracks['r_date'].append(r_date)\n",
    "    pos+=1\n"
   ]
  },
  {
   "cell_type": "code",
   "execution_count": null,
   "id": "a3020d5e",
   "metadata": {},
   "outputs": [],
   "source": [
    "ids = ','.join(tracks_id)\n",
    "#s_tracks\n",
    "ids"
   ]
  },
  {
   "cell_type": "code",
   "execution_count": null,
   "id": "8f5ccb43",
   "metadata": {},
   "outputs": [],
   "source": [
    "# Access token from https://developer.spotify.com/console/get-current-user-top-artists-and-tracks\n",
    "access_token = ''\n",
    "\n",
    "headers = {\n",
    "    'Authorization': f'Bearer {access_token}'\n",
    "}\n",
    "\n",
    "# Base url for all Spotify API calls\n",
    "BASE_URL = 'https://api.spotify.com/v1/'"
   ]
  },
  {
   "cell_type": "code",
   "execution_count": null,
   "id": "e24efeb0",
   "metadata": {},
   "outputs": [],
   "source": [
    "r = requests.post(f'{BASE_URL}me/top/tracks',\n",
    "                 headers=headers,\n",
    "                 params={\n",
    "                     'name': 'top short-term',\n",
    "                     'description': 'generated with python through spotify official api'\n",
    "                     'public': False,\n",
    "                        })\n",
    "r = r.json()\n",
    "\n",
    "pprint(r)"
   ]
  }
 ],
 "metadata": {
  "kernelspec": {
   "display_name": "Python 3 (ipykernel)",
   "language": "python",
   "name": "python3"
  },
  "language_info": {
   "codemirror_mode": {
    "name": "ipython",
    "version": 3
   },
   "file_extension": ".py",
   "mimetype": "text/x-python",
   "name": "python",
   "nbconvert_exporter": "python",
   "pygments_lexer": "ipython3",
   "version": "3.9.13"
  }
 },
 "nbformat": 4,
 "nbformat_minor": 5
}
