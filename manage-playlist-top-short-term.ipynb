{
 "cells": [
  {
   "cell_type": "code",
   "execution_count": 1,
   "id": "503c78b6",
   "metadata": {},
   "outputs": [
    {
     "name": "stdout",
     "output_type": "stream",
     "text": [
      "\n"
     ]
    }
   ],
   "source": [
    "# Import necessary dependencies\n",
    "import requests\n",
    "import os\n",
    "import pandas as pd\n",
    "import numpy as np\n",
    "import matplotlib.pyplot as plt\n",
    "import seaborn as sns\n",
    "from pprint import pprint\n",
    "print()"
   ]
  },
  {
   "cell_type": "markdown",
   "id": "f9b4923b",
   "metadata": {},
   "source": [
    "## Get playlist and tracks"
   ]
  },
  {
   "cell_type": "code",
   "execution_count": 2,
   "id": "7967599b",
   "metadata": {},
   "outputs": [],
   "source": [
    "# Access token from https://developer.spotify.com/console/get-playlist-tracks/\n",
    "access_token = 'BQAIaoo-K_4nphy0PY3Na9i88zWVBDZs98stxpGupqEf7xWaXeSN9PBgs9LYiO-c31zLsAoxxrLif_ruAjAAmxUTLJ-nj8nzPCQ63XSldD2_YeZN36N48KtkE18xVNOOoJj-46BSjGEVNfzYyYVg9-dbee_seZkjPL_naKhza4Nkg0mS'\n",
    "\n",
    "headers = {\n",
    "    'Authorization': f'Bearer {access_token}'\n",
    "}\n",
    "\n",
    "# Base url for all Spotify API calls\n",
    "BASE_URL = 'https://api.spotify.com/v1/'"
   ]
  },
  {
   "cell_type": "code",
   "execution_count": 4,
   "id": "84a66b3b",
   "metadata": {},
   "outputs": [
    {
     "name": "stdout",
     "output_type": "stream",
     "text": [
      "{'error': {'message': 'Service not found', 'status': 404}}\n"
     ]
    }
   ],
   "source": [
    "r = requests.get(f'{BASE_URL}/playlists/',\n",
    "                 headers=headers,\n",
    "                 params={\n",
    "                     'fields': 'tracks.items(track(name, id))'\n",
    "                 })\n",
    "r = r.json()\n",
    "\n",
    "pprint(r)"
   ]
  },
  {
   "cell_type": "code",
   "execution_count": null,
   "id": "b63fe921",
   "metadata": {},
   "outputs": [],
   "source": []
  },
  {
   "cell_type": "markdown",
   "id": "350fcf3e",
   "metadata": {},
   "source": [
    "## Remove tracks from playlist"
   ]
  },
  {
   "cell_type": "code",
   "execution_count": null,
   "id": "56015115",
   "metadata": {},
   "outputs": [],
   "source": [
    "# Access token from https://developer.spotify.com/console/get-current-user-top-artists-and-tracks\n",
    "access_token = ''\n",
    "\n",
    "headers = {\n",
    "    'Authorization': f'Bearer {access_token}'\n",
    "}\n",
    "\n",
    "# Base url for all Spotify API calls\n",
    "BASE_URL = 'https://api.spotify.com/v1/'"
   ]
  },
  {
   "cell_type": "code",
   "execution_count": null,
   "id": "06cd9fc7",
   "metadata": {},
   "outputs": [],
   "source": [
    "r = requests.delete(f'{BASE_URL}me/top/tracks',\n",
    "                 headers=headers,\n",
    "                 params={\n",
    "                     'limit': 100,\n",
    "                     'time_range': 'short_term',\n",
    "                        })\n",
    "r = r.json()\n",
    "\n",
    "pprint(r)"
   ]
  },
  {
   "cell_type": "code",
   "execution_count": null,
   "id": "edfbdc29",
   "metadata": {},
   "outputs": [],
   "source": []
  }
 ],
 "metadata": {
  "kernelspec": {
   "display_name": "Python 3 (ipykernel)",
   "language": "python",
   "name": "python3"
  },
  "language_info": {
   "codemirror_mode": {
    "name": "ipython",
    "version": 3
   },
   "file_extension": ".py",
   "mimetype": "text/x-python",
   "name": "python",
   "nbconvert_exporter": "python",
   "pygments_lexer": "ipython3",
   "version": "3.9.13"
  }
 },
 "nbformat": 4,
 "nbformat_minor": 5
}
